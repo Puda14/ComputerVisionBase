{
 "cells": [
  {
   "cell_type": "code",
   "execution_count": 16,
   "metadata": {},
   "outputs": [],
   "source": [
    "import torch"
   ]
  },
  {
   "cell_type": "code",
   "execution_count": 17,
   "metadata": {},
   "outputs": [
    {
     "name": "stdout",
     "output_type": "stream",
     "text": [
      "tensor([[-0.2936,  0.3655,  0.5549],\n",
      "        [ 1.6178,  1.5282,  0.1978],\n",
      "        [-0.7928, -1.6859,  1.5326]])\n",
      "tensor([[1., 1., 1.],\n",
      "        [1., 1., 1.],\n",
      "        [1., 1., 1.]])\n",
      "1.0\n",
      "torch.Size([3, 3])\n",
      "tensor([1., 1., 1., 1., 1., 1., 1., 1., 1.])\n"
     ]
    }
   ],
   "source": [
    "\n",
    "x = torch.randn(3, 3)\n",
    "print(x)\n",
    "y = torch.ones(3, 3)\n",
    "print(y)\n",
    "print(y[1,1].item())\n",
    "print(y.size())\n",
    "print(y.view(9))"
   ]
  },
  {
   "cell_type": "code",
   "execution_count": 27,
   "metadata": {},
   "outputs": [
    {
     "name": "stdout",
     "output_type": "stream",
     "text": [
      "tensor([[ 0.7064,  1.3655,  1.5549],\n",
      "        [ 2.6178,  2.5282,  1.1978],\n",
      "        [ 0.2072, -0.6859,  2.5326]])\n",
      "tensor([[ 0.7064,  1.3655,  1.5549],\n",
      "        [ 2.6178,  2.5282,  1.1978],\n",
      "        [ 0.2072, -0.6859,  2.5326]])\n",
      "tensor([[ 0.7064,  1.3655,  1.5549],\n",
      "        [ 2.6178,  2.5282,  1.1978],\n",
      "        [ 0.2072, -0.6859,  2.5326]])\n"
     ]
    }
   ],
   "source": [
    "#phép cộng\n",
    "print(x+y)\n",
    "print(torch.add(x, y))\n",
    "\n",
    "z = torch.empty(3,3)\n",
    "torch.add(x, y, out = z)\n",
    "print(z)"
   ]
  },
  {
   "cell_type": "code",
   "execution_count": 29,
   "metadata": {},
   "outputs": [
    {
     "name": "stdout",
     "output_type": "stream",
     "text": [
      "tensor([[ 0.7064,  1.3655,  1.5549],\n",
      "        [ 2.6178,  2.5282,  1.1978],\n",
      "        [ 0.2072, -0.6859,  2.5326]])\n"
     ]
    }
   ],
   "source": [
    "z = y\n",
    "z.add_(x)\n",
    "print(z)\n"
   ]
  },
  {
   "cell_type": "code",
   "execution_count": 32,
   "metadata": {},
   "outputs": [
    {
     "name": "stdout",
     "output_type": "stream",
     "text": [
      "tensor([[-0.2936,  0.3655,  0.5549],\n",
      "        [ 1.6178,  1.5282,  0.1978],\n",
      "        [-0.7928, -1.6859,  1.5326]])\n",
      "tensor([ 0.3655,  1.5282, -1.6859])\n",
      "tensor([1.6178, 1.5282, 0.1978])\n"
     ]
    }
   ],
   "source": [
    "print(x)\n",
    "print(x[:, 1])\n",
    "print(x[1, :])"
   ]
  },
  {
   "cell_type": "code",
   "execution_count": 44,
   "metadata": {},
   "outputs": [
    {
     "name": "stdout",
     "output_type": "stream",
     "text": [
      "torch.Size([4, 8]) torch.Size([32]) torch.Size([4, 8])\n"
     ]
    }
   ],
   "source": [
    "x = torch.randn(4, 8)\n",
    "y = x.view(4*8)\n",
    "z = x.view(-1, 8) # Giá trị -1 cho biết kích thước của chiều này được tính theo các chiều còn lại\n",
    "\n",
    "print(x.size(), y.size(), z.size())"
   ]
  },
  {
   "cell_type": "code",
   "execution_count": 62,
   "metadata": {},
   "outputs": [
    {
     "name": "stdout",
     "output_type": "stream",
     "text": [
      "tensor([1.5000])\n",
      "1.5\n"
     ]
    }
   ],
   "source": [
    "x = torch.tensor([1.5])\n",
    "print(x)\n",
    "i = x.item()\n",
    "print(i)"
   ]
  }
 ],
 "metadata": {
  "kernelspec": {
   "display_name": "Python 3",
   "language": "python",
   "name": "python3"
  },
  "language_info": {
   "codemirror_mode": {
    "name": "ipython",
    "version": 3
   },
   "file_extension": ".py",
   "mimetype": "text/x-python",
   "name": "python",
   "nbconvert_exporter": "python",
   "pygments_lexer": "ipython3",
   "version": "3.11.3"
  },
  "orig_nbformat": 4
 },
 "nbformat": 4,
 "nbformat_minor": 2
}
