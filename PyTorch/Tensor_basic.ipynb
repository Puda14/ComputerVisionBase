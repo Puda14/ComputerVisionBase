{
 "cells": [
  {
   "cell_type": "code",
   "execution_count": 29,
   "metadata": {},
   "outputs": [],
   "source": [
    "import torch"
   ]
  },
  {
   "cell_type": "code",
   "execution_count": 30,
   "metadata": {},
   "outputs": [
    {
     "name": "stdout",
     "output_type": "stream",
     "text": [
      "tensor([[ 2.8026e-45,  0.0000e+00, -8.0712e-05],\n",
      "        [ 1.2612e-42,  4.1929e-28,  4.5914e-41],\n",
      "        [ 1.6816e-44,  0.0000e+00,  0.0000e+00],\n",
      "        [ 0.0000e+00,  1.4026e-41,  0.0000e+00],\n",
      "        [ 4.1929e-28,  4.5914e-41,  1.6816e-44]])\n"
     ]
    }
   ],
   "source": [
    "# Khởi tạo một ma trận rỗng\n",
    "x = torch.empty(5, 3)\n",
    "print(x)"
   ]
  },
  {
   "cell_type": "code",
   "execution_count": 31,
   "metadata": {},
   "outputs": [
    {
     "name": "stdout",
     "output_type": "stream",
     "text": [
      "tensor([[0.4079, 0.1133, 0.8180],\n",
      "        [0.3125, 0.2600, 0.5586],\n",
      "        [0.7616, 0.4479, 0.4192],\n",
      "        [0.3218, 0.1231, 0.0143],\n",
      "        [0.3561, 0.4941, 0.3766]])\n"
     ]
    }
   ],
   "source": [
    "# Khởi tạo một ma trận ngẫu nhiên\n",
    "x = torch.rand(5, 3)\n",
    "print(x)"
   ]
  },
  {
   "cell_type": "code",
   "execution_count": 32,
   "metadata": {},
   "outputs": [
    {
     "name": "stdout",
     "output_type": "stream",
     "text": [
      "tensor([[0, 0, 0],\n",
      "        [0, 0, 0],\n",
      "        [0, 0, 0],\n",
      "        [0, 0, 0],\n",
      "        [0, 0, 0]])\n"
     ]
    }
   ],
   "source": [
    "# Khởi tạo ma trận 0 với data type là long\n",
    "x = torch.zeros(5, 3, dtype = torch.long)\n",
    "print(x)"
   ]
  },
  {
   "cell_type": "code",
   "execution_count": 33,
   "metadata": {},
   "outputs": [
    {
     "name": "stdout",
     "output_type": "stream",
     "text": [
      "tensor([[5.0000, 3.5000],\n",
      "        [2.0000, 3.0000]])\n"
     ]
    }
   ],
   "source": [
    "# Khởi tạo ma trận từ list\n",
    "x = torch.tensor([[5, 3.5],[2,3]])\n",
    "print(x)"
   ]
  },
  {
   "cell_type": "code",
   "execution_count": 34,
   "metadata": {},
   "outputs": [
    {
     "name": "stdout",
     "output_type": "stream",
     "text": [
      "tensor([[1., 1., 1.],\n",
      "        [1., 1., 1.],\n",
      "        [1., 1., 1.],\n",
      "        [1., 1., 1.],\n",
      "        [1., 1., 1.]], dtype=torch.float64)\n"
     ]
    }
   ],
   "source": [
    "# Khởi tạo ma trận có các thuộc tính tương tự như của một ma trận sẵn có. \n",
    "#Chẳng hạn như shape. Trừ khi thuộc tính mới được đưa vào override thuộc tính cũ.\n",
    "x = x.new_ones(5, 3, dtype = torch.double)\n",
    "print(x)"
   ]
  },
  {
   "cell_type": "code",
   "execution_count": 35,
   "metadata": {},
   "outputs": [
    {
     "name": "stdout",
     "output_type": "stream",
     "text": [
      "tensor([[ 0.4218, -0.7123,  0.0723],\n",
      "        [ 0.4536, -0.0409, -0.7795],\n",
      "        [-0.1065, -1.0231,  1.3410],\n",
      "        [ 0.2023, -0.6570,  1.0741],\n",
      "        [ 0.4548, -0.8773, -0.5209]])\n"
     ]
    }
   ],
   "source": [
    "x = torch.randn_like(x, dtype = torch.float) #override dtype\n",
    "# Ma trận mới được khởi tạo ngẫu nhiên có shape tương tự như ma trận cũ, dtype được override.\n",
    "print(x)"
   ]
  }
 ],
 "metadata": {
  "kernelspec": {
   "display_name": "Python 3",
   "language": "python",
   "name": "python3"
  },
  "language_info": {
   "codemirror_mode": {
    "name": "ipython",
    "version": 3
   },
   "file_extension": ".py",
   "mimetype": "text/x-python",
   "name": "python",
   "nbconvert_exporter": "python",
   "pygments_lexer": "ipython3",
   "version": "3.11.3"
  },
  "orig_nbformat": 4
 },
 "nbformat": 4,
 "nbformat_minor": 2
}
