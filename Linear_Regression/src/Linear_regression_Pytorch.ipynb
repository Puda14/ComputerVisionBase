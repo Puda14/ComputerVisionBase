{
 "cells": [
  {
   "cell_type": "markdown",
   "metadata": {},
   "source": [
    "Xử lý bài toán cân nặng theo `PyTorch`"
   ]
  },
  {
   "cell_type": "code",
   "execution_count": 136,
   "metadata": {},
   "outputs": [
    {
     "name": "stdout",
     "output_type": "stream",
     "text": [
      "tensor([[147.],\n",
      "        [150.],\n",
      "        [153.],\n",
      "        [158.],\n",
      "        [163.],\n",
      "        [165.],\n",
      "        [168.],\n",
      "        [170.],\n",
      "        [173.],\n",
      "        [175.],\n",
      "        [178.],\n",
      "        [180.],\n",
      "        [183.]])\n",
      "tensor([49., 50., 51., 54., 58., 59., 60., 62., 63., 64., 66., 67., 68.])\n"
     ]
    }
   ],
   "source": [
    "import torch\n",
    "import torch.nn as nn\n",
    "import torch.optim as optim\n",
    "import numpy as np\n",
    "import matplotlib.pyplot as plt\n",
    "\n",
    "# height (cm), input data, each row is a data point\n",
    "X = np.array([[147, 150, 153, 158, 163, 165, 168, 170, 173, 175, 178, 180, 183]]).T\n",
    "# weight (kg)\n",
    "y = np.array([49, 50, 51, 54, 58, 59, 60, 62, 63, 64, 66, 67, 68])\n",
    "\n",
    "# Convert NumPy arrays to PyTorch tensors\n",
    "# X = torch.tensor(X, dtype=torch.float32)\n",
    "# y = torch.tensor(y, dtype=torch.float32).view(-1)  # Ensure y is a 1D tensor\n",
    "\n",
    "X = torch.from_numpy(X.astype(np.float32))\n",
    "y = torch.from_numpy(y.astype(np.float32))\n",
    "#y = y.view(y.shape[0], 1)\n",
    "\n",
    "\n",
    "#-----------------------------------------#\n",
    "#X = torch.tensor([[147, 150, 153, 158, 163, 165, 168, 170, 173, 175, 178, 180, 183]], dtype=torch.float32).T\n",
    "#y = torch.tensor([49, 50, 51, 54, 58, 59, 60, 62, 63, 64, 66, 67, 68], dtype=torch.float32)\n",
    "\n",
    "\n",
    "print(X)\n",
    "print(y)"
   ]
  },
  {
   "cell_type": "markdown",
   "metadata": {},
   "source": [
    "`view(-1, 1)` là một phương thức trong PyTorch được sử dụng để thay đổi hình dạng của tensor sao cho tensor mới có một cột và số hàng được tính tự động để duy trì tổng số phần tử ban đầu.\n",
    "\n",
    "`dim` (dimension) là một tham số quan trọng trong các hàm và phương thức để xác định trục hoặc chiều mà thao tác sẽ được thực hiện. `dim = 0` sẽ nối các tensor theo chiều dọc, `dim = 1` sẽ nối các tensor theo chiều ngang.\n",
    "\n",
    "`X.shape[0]`  Lấy số hàng của x\n",
    "`X.shape[1]`  Lấy số cột của x\n"
   ]
  },
  {
   "cell_type": "code",
   "execution_count": 155,
   "metadata": {},
   "outputs": [
    {
     "name": "stdout",
     "output_type": "stream",
     "text": [
      "tensor([[-34.0293,   0.5610]])\n"
     ]
    }
   ],
   "source": [
    "# Building Xbar\n",
    "ones = torch.ones((X.shape[0], 1), dtype=torch.float32)\n",
    "Xbar = torch.cat((ones, X), dim=1)  # each point is one row\n",
    "\n",
    "# Calculating weights of the fitting line using PyTorch\n",
    "A = torch.mm(Xbar.T, Xbar)\n",
    "b = torch.mm(Xbar.T, y.view(-1, 1))\n",
    "w = torch.mm( torch.pinverse(A), b)\n",
    "w = w.view(1, -1)\n",
    "print(w)\n",
    "\n",
    "# Extract weights\n",
    "w_0, w_1 = w[0][0].item(), w[0][1].item()"
   ]
  },
  {
   "cell_type": "code",
   "execution_count": 156,
   "metadata": {},
   "outputs": [
    {
     "data": {
      "image/png": "[encoded data removed]",
      "text/plain": [
       "<Figure size 640x480 with 1 Axes>"
      ]
     },
     "metadata": {},
     "output_type": "display_data"
    }
   ],
   "source": [
    "# Predicted values for the entire dataset\n",
    "y_pred = w_1 * X + w_0\n",
    "\n",
    "# Plot the data points\n",
    "plt.scatter(X.numpy(), y.numpy(), color='red', label='Data points')\n",
    "\n",
    "# Plot the fitted line\n",
    "plt.plot(X.numpy(), y_pred.numpy(), color='blue', linewidth=2, label='Linear Regression')\n",
    "\n",
    "# Set the x and y axis limits\n",
    "plt.xlim(140, 190)\n",
    "plt.ylim(45, 75)\n",
    "\n",
    "# Set the x and y axis ticks with specified intervals\n",
    "plt.xticks(np.arange(140, 191, 10))\n",
    "plt.yticks(np.arange(45, 76, 5))\n",
    "\n",
    "# Add labels and legend\n",
    "plt.xlabel('Height (cm)')\n",
    "plt.ylabel('Weight (kg)')\n",
    "plt.legend()\n",
    "\n",
    "# Show the plot\n",
    "plt.show()\n"
   ]
  },
  {
   "cell_type": "code",
   "execution_count": 148,
   "metadata": {},
   "outputs": [
    {
     "name": "stdout",
     "output_type": "stream",
     "text": [
      "Input 155cm, true output 52kg, predicted output 52.92kg\n",
      "Input 160cm, true output 56kg, predicted output 55.72kg\n"
     ]
    }
   ],
   "source": [
    "# Predictions for specific heights\n",
    "height_1 = 155\n",
    "height_2 = 160\n",
    "y1 = w_1 * height_1 + w_0\n",
    "y2 = w_1 * height_2 + w_0\n",
    "\n",
    "print(f'Input {height_1}cm, true output 52kg, predicted output {y1:.2f}kg')\n",
    "print(f'Input {height_2}cm, true output 56kg, predicted output {y2:.2f}kg')"
   ]
  }
 ],
 "metadata": {
  "kernelspec": {
   "display_name": "Python 3",
   "language": "python",
   "name": "python3"
  },
  "language_info": {
   "codemirror_mode": {
    "name": "ipython",
    "version": 3
   },
   "file_extension": ".py",
   "mimetype": "text/x-python",
   "name": "python",
   "nbconvert_exporter": "python",
   "pygments_lexer": "ipython3",
   "version": "3.11.3"
  },
  "orig_nbformat": 4
 },
 "nbformat": 4,
 "nbformat_minor": 2
}
