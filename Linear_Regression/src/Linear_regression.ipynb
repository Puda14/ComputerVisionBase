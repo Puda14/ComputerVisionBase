{
 "cells": [
  {
   "cell_type": "markdown",
   "metadata": {},
   "source": [
    "Xử lý bài toán cân nặng theo `numpy`\n",
    "\n",
    "Khai báo training data:"
   ]
  },
  {
   "cell_type": "code",
   "execution_count": 105,
   "metadata": {},
   "outputs": [
    {
     "name": "stdout",
     "output_type": "stream",
     "text": [
      "[[147]\n",
      " [150]\n",
      " [153]\n",
      " [158]\n",
      " [163]\n",
      " [165]\n",
      " [168]\n",
      " [170]\n",
      " [173]\n",
      " [175]\n",
      " [178]\n",
      " [180]\n",
      " [183]]\n"
     ]
    }
   ],
   "source": [
    "from __future__ import print_function\n",
    "import numpy as np\n",
    "import matplotlib.pyplot as plt\n",
    "# height (cm), input data, each row is a data point\n",
    "X = np.array([[147, 150, 153, 158, 163, 165, 168, 170, 173, 175, 178, 180, 183]]).T\n",
    "# weight (kg)\n",
    "y = np.array([ 49, 50, 51, 54, 58, 59, 60, 62, 63, 64, 66, 67, 68])\n",
    "print(X)"
   ]
  },
  {
   "cell_type": "markdown",
   "metadata": {},
   "source": [
    "weight = `w_1`*height + `w_0`\n",
    "\n",
    "`w_0` là bias\n",
    "\n",
    "=> Cần tính toán `w_1` và `w_0`\n",
    "\n",
    "=> Giả nghịch đảo được tính bằng `numpy.linalg.pinv(A)`"
   ]
  },
  {
   "cell_type": "markdown",
   "metadata": {},
   "source": [
    "`one = np.ones((X.shape[0], 1))`\n",
    "\n",
    "Mục đích của ma trận này là để thêm một chiều số học (bias hoặc intercept) vào dữ liệu chiều cao `X` để xây dựng mô hình hồi quy tuyến tính.\n",
    "\n",
    "`Xbar = np.concatenate((one, X), axis = 1)`\n",
    "\n",
    "Kết hợp ma trận `one` với ma trận `X` theo chiều ngang\n",
    "Thêm một cột 1 vào dữ liệu chiều cao `X`, biến nó thành một ma trận có hai cột. Ma trận này sẽ được sử dụng để tính toán mô hình hồi quy tuyến tính, trong đó cột đầu tiên (cột 0) tương ứng với giá trị số học (bias)"
   ]
  },
  {
   "cell_type": "code",
   "execution_count": 106,
   "metadata": {},
   "outputs": [
    {
     "name": "stdout",
     "output_type": "stream",
     "text": [
      "[-33.73541021   0.55920496]\n"
     ]
    }
   ],
   "source": [
    "# Building Xbar\n",
    "one = np.ones((X.shape[0], 1))\n",
    "Xbar = np.concatenate((one, X), axis = 1) # each point is one row\n",
    "# Calculating weights of the fitting line\n",
    "A = np.dot(Xbar.T, Xbar) \n",
    "b = np.dot(Xbar.T, y)\n",
    "w = np.dot(np.linalg.pinv(A), b)\n",
    "print(w)\n",
    "# weights\n",
    "w_0, w_1 = w[0], w[1]"
   ]
  },
  {
   "cell_type": "markdown",
   "metadata": {},
   "source": [
    "`plt.scatter(X, y, color = 'red',label='Data points')`\n",
    "\n",
    "Hàm này vẽ các điểm dữ liệu trên biểu đồ. `X` là chiều cao và `y` là trọng lượng của các điểm dữ liệu. Hàm scatter được sử dụng để vẽ các điểm dữ liệu.\n",
    "\n",
    "`plt.plot(X, y_pred, color='blue', linewidth=2, label='Linear Regression')`\n",
    "\n",
    "Hàm này vẽ đường hồi quy tuyến tính. `X` là các giá trị chiều cao, `y_pred` là giá trị dự đoán trọng lượng tương ứng với các giá trị chiều cao này. color là màu của đường vẽ, linewidth là độ dày của đường, và label là nhãn cho đường trên biểu đồ.\n",
    "\n",
    "`plt.xlim(140, 190)`\n",
    "\n",
    "Hàm này xác định giới hạn trục `x` của biểu đồ, tức là giá trị tối thiểu và tối đa trên trục `x`. Trong trường hợp này, nó đặt giới hạn từ 140 đến 190 cho trục Height(cm).\n",
    "Trục y tương tự.\n",
    "\n",
    "`plt.xticks(np.arange(140, 191, 10))`\n",
    "\n",
    "Hàm này xác định các vị trí của các đánh dấu trên trục `x`. Trong trường hợp này, đặt các đánh dấu từ 140 đến 190 với bước nhảy là 10.\n",
    "Trục y tương tự.\n",
    "\n",
    "`plt.xlabel('Height (cm)')` và `plt.ylabel('Weight (kg)')`\n",
    "\n",
    "Các hàm này thêm nhãn cho trục x và trục y trên biểu đồ để mô tả ý nghĩa của các trục.\n",
    "\n",
    "`plt.legend()`\n",
    "\n",
    "Hàm này thêm hình chú thích vào biểu đồ để hiển thị các nhãn của dữ liệu và đường hồi quy.\n",
    "\n",
    "`plt.show()`\n",
    "\n",
    "Hàm này dùng để hiển thị biểu đồ. Khi bạn gọi plt.show(), biểu đồ sẽ xuất hiện trong cửa sổ hiển thị."
   ]
  },
  {
   "cell_type": "code",
   "execution_count": 107,
   "metadata": {},
   "outputs": [
    {
     "data": {
      "image/png": "[encoded data removed]",
      "text/plain": [
       "<Figure size 640x480 with 1 Axes>"
      ]
     },
     "metadata": {},
     "output_type": "display_data"
    }
   ],
   "source": [
    "# Predicted values for the entire dataset\n",
    "y_pred = w_1 * X + w_0\n",
    "\n",
    "# Plot the data points\n",
    "plt.scatter(X, y, color = 'red',label='Data points')\n",
    "\n",
    "# Plot the fitted line\n",
    "plt.plot(X, y_pred, color='blue', linewidth=2, label='Linear Regression')\n",
    "\n",
    "# Set the x and y axis limits\n",
    "plt.xlim(140, 190)\n",
    "plt.ylim(45, 75)\n",
    "\n",
    "# Set the x and y axis ticks with specified intervals\n",
    "plt.xticks(np.arange(140, 191, 10))\n",
    "plt.yticks(np.arange(45, 76, 5))  # Thay đổi bước nhảy thành 5\n",
    "\n",
    "# Add labels and legend\n",
    "plt.xlabel('Height (cm)')\n",
    "plt.ylabel('Weight (kg)')\n",
    "plt.legend()\n",
    "\n",
    "# Show the plot\n",
    "plt.show()"
   ]
  },
  {
   "cell_type": "code",
   "execution_count": 108,
   "metadata": {},
   "outputs": [
    {
     "name": "stdout",
     "output_type": "stream",
     "text": [
      "Input 155cm, true output 52kg, predicted output 52.94kg\n",
      "Input 160cm, true output 56kg, predicted output 55.74kg\n"
     ]
    }
   ],
   "source": [
    "y1 = w_1*155 + w_0\n",
    "y2 = w_1*160 + w_0\n",
    "print('Input 155cm, true output 52kg, predicted output %.2fkg' %(y1) )\n",
    "print('Input 160cm, true output 56kg, predicted output %.2fkg' %(y2) )"
   ]
  }
 ],
 "metadata": {
  "kernelspec": {
   "display_name": "Python 3",
   "language": "python",
   "name": "python3"
  },
  "language_info": {
   "codemirror_mode": {
    "name": "ipython",
    "version": 3
   },
   "file_extension": ".py",
   "mimetype": "text/x-python",
   "name": "python",
   "nbconvert_exporter": "python",
   "pygments_lexer": "ipython3",
   "version": "3.11.3"
  },
  "orig_nbformat": 4
 },
 "nbformat": 4,
 "nbformat_minor": 2
}
