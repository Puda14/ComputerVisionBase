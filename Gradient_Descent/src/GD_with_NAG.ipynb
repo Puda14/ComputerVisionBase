{
 "cells": [
  {
   "cell_type": "markdown",
   "metadata": {},
   "source": [
    "`Momentum` giúp *hòn bi* vượt qua *dốc* (cực tiểu địa phương) nhanh hơn. Tuy nhiên, khi gần tới đích momentum vẫn mất nhiều thời gian trước khi dừng lại, chính vì do có *đà*. Một kỹ thuật có tên `Nesterov accelerated gradient` (NAG) giúp thuật toán `momentum` GD hội tụ nhanh hơn."
   ]
  },
  {
   "cell_type": "markdown",
   "metadata": {},
   "source": [
    "Sự khác nhau giữa `Momentum` và `NAG` nằm ở điểm lấy đạo hàm. Ở `Momentum`, điểm được lấy đạo hàm chính là vị trí hiện tại của nghiệm. Ở `NAG`, điểm được lấy đạo hàm là điểm *có được nếu sử dụng momentum* "
   ]
  },
  {
   "cell_type": "markdown",
   "metadata": {},
   "source": [
    "Công thức cập nhật của NAG như sau:\n",
    "\n",
    "$$v_t = \\gamma v_{t-1}+\\eta\\nabla_{\\theta}J(\\theta - \\gamma v_{t-1})$$\n",
    "\n",
    "$$\\theta = \\theta - v_t$$"
   ]
  },
  {
   "cell_type": "code",
   "execution_count": 1,
   "metadata": {},
   "outputs": [],
   "source": [
    "from __future__ import print_function\n",
    "import numpy as np\n",
    "import matplotlib.pyplot as plt\n",
    "\n",
    "def GD_NAG(grad, theta_init, eta, gamma):\n",
    "    theta = [theta_init]\n",
    "    v = [np.zeros_like(theta_init)]\n",
    "    for it in range(100):\n",
    "        v_new = gamma*v[-1] + eta*grad(theta[-1] - gamma*v[-1])\n",
    "        theta_new = theta[-1] - v_new\n",
    "        if np.linalg.norm(grad(theta_new))/np.array(theta_init).size < 1e-3:\n",
    "            break\n",
    "        theta.append(theta_new)\n",
    "        v.append(v_new)\n",
    "    return theta"
   ]
  }
 ],
 "metadata": {
  "kernelspec": {
   "display_name": "Python 3",
   "language": "python",
   "name": "python3"
  },
  "language_info": {
   "codemirror_mode": {
    "name": "ipython",
    "version": 3
   },
   "file_extension": ".py",
   "mimetype": "text/x-python",
   "name": "python",
   "nbconvert_exporter": "python",
   "pygments_lexer": "ipython3",
   "version": "3.11.3"
  },
  "orig_nbformat": 4
 },
 "nbformat": 4,
 "nbformat_minor": 2
}
