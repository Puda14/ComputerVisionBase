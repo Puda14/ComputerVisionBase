{
 "cells": [
  {
   "cell_type": "code",
   "execution_count": 1,
   "metadata": {},
   "outputs": [],
   "source": [
    "from __future__ import print_function\n",
    "import numpy as np\n",
    "import matplotlib.pyplot as plt"
   ]
  },
  {
   "cell_type": "markdown",
   "metadata": {},
   "source": [
    "Xử lý hàm f(x,y):\n",
    "\n",
    "`y = x^2 + 5*sin(x) +y^2`"
   ]
  },
  {
   "cell_type": "code",
   "execution_count": 2,
   "metadata": {},
   "outputs": [],
   "source": [
    "def grad_x(x, y):\n",
    "    return 2 * x + 5 * np.cos(x)\n",
    "\n",
    "def grad_y(x, y):\n",
    "    return 2 * y\n",
    "\n",
    "def f(x, y):\n",
    "    return x**2 + 5*np.sin(x) + y**2"
   ]
  },
  {
   "cell_type": "code",
   "execution_count": 3,
   "metadata": {},
   "outputs": [],
   "source": [
    "def myGD2(x0, y0, eta):\n",
    "    x = [x0]\n",
    "    y = [y0]\n",
    "    for it in range(100):\n",
    "        x_new = x[-1] - eta * grad_x(x[-1], y[-1])\n",
    "        y_new = y[-1] - eta * grad_y(x[-1], y[-1])\n",
    "        x.append(x_new)\n",
    "        y.append(y_new)\n",
    "        if np.linalg.norm(np.array([grad_x(x_new, y_new), grad_y(x_new, y_new)])) < 1e-3:\n",
    "            break\n",
    "    return (x, y, it)"
   ]
  },
  {
   "cell_type": "code",
   "execution_count": 7,
   "metadata": {},
   "outputs": [
    {
     "name": "stdout",
     "output_type": "stream",
     "text": [
      "Solution x1 = -1.110511, y1 = 0.000498, f(x1, y1) = -3.246394, after 38 iterations\n",
      "Solution x2 = -1.110510, y2 = 0.000498, f(x2, y2) = -3.246394, after 38 iterations\n"
     ]
    }
   ],
   "source": [
    "(x1, y1, it1) = myGD2(-5, 3, 0.1)\n",
    "(x2, y2, it2) = myGD2(5, 3, 0.1)\n",
    "print('Solution x1 = %f, y1 = %f, f(x1, y1) = %f, after %d iterations'%(x1[-1], y1[-1], f(x1[-1], y1[-1]), it1))\n",
    "print('Solution x2 = %f, y2 = %f, f(x2, y2) = %f, after %d iterations'%(x2[-1], y2[-1], f(x2[-1], y2[-1]), it2))"
   ]
  }
 ],
 "metadata": {
  "kernelspec": {
   "display_name": "Python 3",
   "language": "python",
   "name": "python3"
  },
  "language_info": {
   "codemirror_mode": {
    "name": "ipython",
    "version": 3
   },
   "file_extension": ".py",
   "mimetype": "text/x-python",
   "name": "python",
   "nbconvert_exporter": "python",
   "pygments_lexer": "ipython3",
   "version": "3.11.3"
  },
  "orig_nbformat": 4
 },
 "nbformat": 4,
 "nbformat_minor": 2
}
