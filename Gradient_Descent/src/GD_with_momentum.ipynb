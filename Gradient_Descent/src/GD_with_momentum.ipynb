{
 "cells": [
  {
   "cell_type": "markdown",
   "metadata": {},
   "source": [
    "Gradient Descent momentum giúp `hòn bi` vượt qua được `cực tiểu địa phương`.\n",
    "\n",
    "Nếu biết trước điểm đặt bi ban đầu `theta`, đạo hàm của hàm mất mát tại một điểm bất kỳ `grad(theta)`, lượng thông tin lưu trữ từ vận tốc trước đó `gamma` và learning rate `eta`, chúng ta có thể viết hàm `GD_momentum` như sau:\n",
    "\n",
    "$$\\theta_t = \\theta_{t-1} - \\gamma v_{t-1} - \\eta\\nabla_{\\theta}J(\\theta_{t-1})$$\n",
    "\n",
    "$$v_t=\\gamma v_{t-1}+\\eta\\nabla_{\\theta}J(\\theta)$$"
   ]
  }
 ],
 "metadata": {
  "language_info": {
   "name": "python"
  },
  "orig_nbformat": 4
 },
 "nbformat": 4,
 "nbformat_minor": 2
}
