{
 "cells": [
  {
   "cell_type": "markdown",
   "metadata": {},
   "source": [
    "Xét hàm số: `f(x) = x^2 + 5 sin(x)` \n",
    "\n",
    "Với đạo hàm: `f0(x) = 2x + 5 cos(x)`\n",
    "\n",
    "Giả sử bắt đầu từ một điểm `x0` nào đó, tại vòng lặp thứ `t`, chúng ta sẽ cập nhật như sau:\n",
    "\n",
    "`xt+1 = xt − η(2xt + 5 cos(xt))`\n",
    "\n",
    "1. `grad` để tính đạo hàm.\n",
    "2. `cost` để tính giá trị của hàm số. Hàm này không sử dụng trong thuật toán nhưng thường được dùng để kiểm tra việc tính đạo hàm có đúng không hoặc để xem giá trị của hàm số có giảm theo mỗi vòng lặp hay không.\n",
    "3. `myGD1` là phần chính thực hiện thuật toán GD nêu phía trên. Đầu vào của hàm số này là learning rate và điểm xuất phát. Thuật toán dừng lại khi đạo hàm có độ lớn đủ nhỏ."
   ]
  },
  {
   "cell_type": "code",
   "execution_count": 5,
   "metadata": {},
   "outputs": [],
   "source": [
    "from __future__ import print_function\n",
    "import numpy as np\n",
    "import matplotlib.pyplot as plt"
   ]
  },
  {
   "cell_type": "code",
   "execution_count": 10,
   "metadata": {},
   "outputs": [],
   "source": [
    "# f(x) = x^2 + 5 sin(x)\n",
    "\n",
    "def grad(x):\n",
    "    return 2*x+ 5*np.cos(x)\n",
    "\n",
    "def cost(x):\n",
    "    return x**2 + 5*np.sin(x)\n",
    "\n",
    "def myGD1(x0, eta):\n",
    "    x = [x0]\n",
    "    for it in range(100):\n",
    "        x_new = x[-1] - eta*grad(x[-1])\n",
    "        if abs(grad(x_new)) < 1e-3: # just a small number\n",
    "            break\n",
    "        x.append(x_new)\n",
    "    return (x, it)"
   ]
  },
  {
   "cell_type": "markdown",
   "metadata": {},
   "source": [
    "Sau khi đã có các hàm cần thiết, chúng ta thử tìm nghiệm với các điểm khởi tạo khác nhau\n",
    "là x0 = −5 và x0 = 5, với cùng learning rate η = 0.1."
   ]
  },
  {
   "cell_type": "code",
   "execution_count": 13,
   "metadata": {},
   "outputs": [
    {
     "name": "stdout",
     "output_type": "stream",
     "text": [
      "Solution x1 = -1.110667, cost = -3.246394, after 11 iterations\n",
      "Solution x2 = -1.110341, cost = -3.246394, after 29 iterations\n"
     ]
    }
   ],
   "source": [
    "(x1, it1) = myGD1(-5, 0.1)\n",
    "(x2, it2) = myGD1(5, 0.1)\n",
    "print('Solution x1 = %f, cost = %f, after %d iterations'%(x1[-1], cost(x1[-1]), it1))\n",
    "print('Solution x2 = %f, cost = %f, after %d iterations'%(x2[-1], cost(x2[-1]), it2))"
   ]
  }
 ],
 "metadata": {
  "kernelspec": {
   "display_name": "Python 3",
   "language": "python",
   "name": "python3"
  },
  "language_info": {
   "codemirror_mode": {
    "name": "ipython",
    "version": 3
   },
   "file_extension": ".py",
   "mimetype": "text/x-python",
   "name": "python",
   "nbconvert_exporter": "python",
   "pygments_lexer": "ipython3",
   "version": "3.11.3"
  },
  "orig_nbformat": 4
 },
 "nbformat": 4,
 "nbformat_minor": 2
}
